{
 "cells": [
  {
   "metadata": {
    "collapsed": true,
    "ExecuteTime": {
     "end_time": "2024-12-16T19:55:22.498779Z",
     "start_time": "2024-12-16T19:55:17.814Z"
    }
   },
   "cell_type": "code",
   "source": [
    "import com.toldoven.aoc.notebook.AocClient\n",
    "import com.toldoven.aoc.notebook.AocDay\n",
    "%use kandy"
   ],
   "outputs": [],
   "execution_count": 6
  },
  {
   "metadata": {
    "ExecuteTime": {
     "end_time": "2024-12-16T19:55:22.526228Z",
     "start_time": "2024-12-16T19:55:22.501363Z"
    }
   },
   "cell_type": "code",
   "source": [
    "val aoc = AocClient.fromEnv().interactiveDay(2024, 6)\n",
    "aoc.viewPartOne()"
   ],
   "outputs": [
    {
     "data": {
      "text/html": [
       "<h2>--- Day 6: Guard Gallivant ---</h2>\n",
       "<p>The Historians use their fancy <a href=\"4\">device</a> again, this time to whisk you all away to the North Pole prototype suit manufacturing lab... in the year <a href=\"/2018/day/5\">1518</a>! It turns out that having direct access to history is very convenient for a group of historians.</p> \n",
       "<p>You still have to be careful of time paradoxes, and so it will be important to avoid anyone from 1518 while The Historians search for the Chief. Unfortunately, a single <em>guard</em> is patrolling this part of the lab.</p> \n",
       "<p>Maybe you can work out where the guard will go ahead of time so that The Historians can search safely?</p> \n",
       "<p>You start by making a map (your puzzle input) of the situation. For example:</p> \n",
       "<pre><code>....#.....\n",
       ".........#\n",
       "..........\n",
       "..#.......\n",
       ".......#..\n",
       "..........\n",
       ".#..^.....\n",
       "........#.\n",
       "#.........\n",
       "......#...\n",
       "</code></pre> \n",
       "<p>The map shows the current position of the guard with <code>^</code> (to indicate the guard is currently facing <em>up</em> from the perspective of the map). Any <em>obstructions</em> - crates, desks, alchemical reactors, etc. - are shown as <code>#</code>.</p> \n",
       "<p>Lab guards in 1518 follow a very strict patrol protocol which involves repeatedly following these steps:</p> \n",
       "<ul> \n",
       " <li>If there is something directly in front of you, turn right 90 degrees.</li> \n",
       " <li>Otherwise, take a step forward.</li> \n",
       "</ul> \n",
       "<p>Following the above protocol, the guard moves up several times until she reaches an obstacle (in this case, a pile of failed suit prototypes):</p> \n",
       "<pre><code>....#.....\n",
       "....^....#\n",
       "..........\n",
       "..#.......\n",
       ".......#..\n",
       "..........\n",
       ".#........\n",
       "........#.\n",
       "#.........\n",
       "......#...\n",
       "</code></pre> \n",
       "<p>Because there is now an obstacle in front of the guard, she turns right before continuing straight in her new facing direction:</p> \n",
       "<pre><code>....#.....\n",
       "........&gt;#\n",
       "..........\n",
       "..#.......\n",
       ".......#..\n",
       "..........\n",
       ".#........\n",
       "........#.\n",
       "#.........\n",
       "......#...\n",
       "</code></pre> \n",
       "<p>Reaching another obstacle (a spool of several <em>very</em> long polymers), she turns right again and continues downward:</p> \n",
       "<pre><code>....#.....\n",
       ".........#\n",
       "..........\n",
       "..#.......\n",
       ".......#..\n",
       "..........\n",
       ".#......v.\n",
       "........#.\n",
       "#.........\n",
       "......#...\n",
       "</code></pre> \n",
       "<p>This process continues for a while, but the guard eventually leaves the mapped area (after walking past a tank of universal solvent):</p> \n",
       "<pre><code>....#.....\n",
       ".........#\n",
       "..........\n",
       "..#.......\n",
       ".......#..\n",
       "..........\n",
       ".#........\n",
       "........#.\n",
       "#.........\n",
       "......#v..\n",
       "</code></pre> \n",
       "<p>By predicting the guard's route, you can determine which specific positions in the lab will be in the patrol path. <em>Including the guard's starting position</em>, the positions visited by the guard before leaving the area are marked with an <code>X</code>:</p> \n",
       "<pre><code>....#.....\n",
       "....XXXXX#\n",
       "....X...X.\n",
       "..#.X...X.\n",
       "..XXXXX#X.\n",
       "..X.X.X.X.\n",
       ".#XXXXXXX.\n",
       ".XXXXXXX#.\n",
       "#XXXXXXX..\n",
       "......#X..\n",
       "</code></pre> \n",
       "<p>In this example, the guard will visit <code><em>41</em></code> distinct positions on your map.</p> \n",
       "<p>Predict the path of the guard. <em>How many distinct positions will the guard visit before leaving the mapped area?</em></p>"
      ]
     },
     "execution_count": 7,
     "metadata": {},
     "output_type": "execute_result"
    }
   ],
   "execution_count": 7
  },
  {
   "metadata": {
    "ExecuteTime": {
     "end_time": "2024-12-16T19:55:22.551863Z",
     "start_time": "2024-12-16T19:55:22.529752Z"
    }
   },
   "cell_type": "code",
   "source": [
    "import com.github.ajalt.mordant.rendering.TextColors\n",
    "import kotlinx.coroutines.delay\n",
    "\n",
    "val input = aoc.input()\n",
    "val testInput = \"\"\"\n",
    "....#.....\n",
    ".........#\n",
    "..........\n",
    "..#.......\n",
    ".......#..\n",
    "..........\n",
    ".#..^.....\n",
    "........#.\n",
    "#.........\n",
    "......#...\n",
    "\"\"\".trimIndent()\n",
    "fun guardStart(input: List<String>) =\n",
    "    input.twoDSequence().find { (_, char) -> char in Guard.entries.map { it.char } } ?: error(\"Guard not found\")\n",
    "\n",
    "val obst = '#'\n",
    "suspend fun guardPath1(\n",
    "    map: List<List<Char>>,\n",
    "    currentCoord: Coord,\n",
    "    guard: Guard,\n",
    "    visit: suspend (Coord, Guard, turn: Boolean) -> Unit = { _, _, _ -> }\n",
    "): List<Coord> {\n",
    "    val aheadCoord = currentCoord.move(guard.dir)\n",
    "    val aheadChar = map[aheadCoord] ?: return listOf(currentCoord)\n",
    "    return when (aheadChar) {\n",
    "        obst -> {\n",
    "            visit(currentCoord, guard.turnRight(), true)\n",
    "            return guardPath1(map, currentCoord, guard.turnRight(), visit)\n",
    "        }\n",
    "\n",
    "        else -> {\n",
    "            visit(currentCoord, guard, false)\n",
    "            listOf(currentCoord) + guardPath1(map, aheadCoord, guard, visit)\n",
    "        }\n",
    "    }\n",
    "}\n",
    "\n",
    "suspend fun part1(input: List<String>): Int {\n",
    "    val (startCoord, guardChar) = guardStart(input)\n",
    "    val startGuard = Guard.fromChar(guardChar)\n",
    "\n",
    "    val map = input.map { it.toList() }\n",
    "    val mutableMap = input.map {\n",
    "        it.split(\"\").toMutableList()\n",
    "    }.toMutableList()\n",
    "    val path = guardPath1(map, startCoord, startGuard) { coord, guard, turn ->\n",
    "        mutableMap[coord] = when {\n",
    "//                coord == startCoord -> guardChar.toString()\n",
    "            turn -> \"+\"\n",
    "            mutableMap[coord]?.any { it in listOf('-', '|', '+') } == true -> \"+\"\n",
    "            guard in listOf(Guard.Up, Guard.Down) -> \"|\"\n",
    "            guard in listOf(Guard.Left, Guard.Right) -> \"-\"\n",
    "            else -> error(\"Oops $coord, $guard\")\n",
    "        }.color(if (coord == startCoord) TextColors.green else TextColors.red)\n",
    "        println(mutableMap.joinToString(separator = \"\\n\") { it.joinToString(\"\") })\n",
    "        println()\n",
    "        delay(500)\n",
    "    }\n",
    "//        println(mutableMap.joinToString(separator = \"\\n\") { it.joinToString(\"\") })\n",
    "    return path.toSet().size\n",
    "}\n",
    "\n"
   ],
   "outputs": [],
   "execution_count": 8
  }
 ],
 "metadata": {
  "kernelspec": {
   "display_name": "Kotlin",
   "language": "kotlin",
   "name": "kotlin"
  },
  "language_info": {
   "name": "kotlin",
   "version": "1.9.23",
   "mimetype": "text/x-kotlin",
   "file_extension": ".kt",
   "pygments_lexer": "kotlin",
   "codemirror_mode": "text/x-kotlin",
   "nbconvert_exporter": ""
  },
  "ktnbPluginMetadata": {
   "projectDependencies": [
    "2024-advent-of-code-amper.jvm"
   ],
   "projectLibraries": false
  }
 },
 "nbformat": 4,
 "nbformat_minor": 0
}
